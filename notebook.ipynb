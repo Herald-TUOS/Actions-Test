{
 "cells": [
  {
   "cell_type": "code",
   "execution_count": null,
   "metadata": {},
   "outputs": [],
   "source": [
    "from typing import Iterable"
   ]
  },
  {
   "cell_type": "code",
   "execution_count": null,
   "metadata": {},
   "outputs": [],
   "source": [
    "def sum_even_numbers(numbers: Iterable[int]) -> int:\n",
    "    \"\"\"Given an iterable of integers, return the sum of all even numbers in the iterable.\"\"\"\n",
    "    return sum(num for num in numbers if num % 2 == 0)"
   ]
  },
  {
   "cell_type": "code",
   "execution_count": null,
   "metadata": {},
   "outputs": [],
   "source": [
    "# Testing if GitHub Action is gonna test twice when pushing to action_twice branch"
   ]
  },
  {
   "cell_type": "markdown",
   "metadata": {},
   "source": [
    "```\n",
    "on: \n",
    "  push: {}\n",
    "  pull_request:\n",
    "    types: [closed]\n",
    "```\n",
    "\n",
    "This runs actions while pushing to any of the branches and when closing PRs (not while opening)\n",
    "\n",
    "But it runs twice while closing PR :("
   ]
  }
 ],
 "metadata": {
  "language_info": {
   "name": "python"
  }
 },
 "nbformat": 4,
 "nbformat_minor": 2
}
